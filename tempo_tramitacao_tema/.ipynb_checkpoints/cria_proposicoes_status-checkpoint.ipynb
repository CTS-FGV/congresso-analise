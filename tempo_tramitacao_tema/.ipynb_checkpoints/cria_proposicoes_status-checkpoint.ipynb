{
 "cells": [
  {
   "cell_type": "code",
   "execution_count": 1,
   "metadata": {
    "collapsed": true
   },
   "outputs": [],
   "source": [
    "import sqlalchemy\n",
    "from sqlalchemy.sql import text\n",
    "import pandas as pd\n",
    "import glob\n",
    "import os\n",
    "import pickle"
   ]
  },
  {
   "cell_type": "code",
   "execution_count": 2,
   "metadata": {
    "collapsed": true
   },
   "outputs": [],
   "source": [
    "url = 'postgresql://{}:{}@{}/{}'\n",
    "url = url.format(user, password, host, database)\n",
    "conn = sqlalchemy.create_engine(url)"
   ]
  },
  {
   "cell_type": "code",
   "execution_count": 4,
   "metadata": {
    "collapsed": true
   },
   "outputs": [],
   "source": [
    "# CONFS\n",
    "schema = 'desenv.cam_' # PRODUÇÃO: 'a_camdep.'"
   ]
  },
  {
   "cell_type": "code",
   "execution_count": 6,
   "metadata": {},
   "outputs": [
    {
     "data": {
      "text/plain": [
       "<sqlalchemy.engine.result.ResultProxy at 0x7fd493956198>"
      ]
     },
     "execution_count": 6,
     "metadata": {},
     "output_type": "execute_result"
    }
   ],
   "source": [
    "query = \"\"\"\n",
    "DROP TABLE IF EXISTS {0}proposicoes;\n",
    "CREATE TABLE {0}proposicoes AS\n",
    "SELECT \n",
    "    DISTINCT ON(idproposicao)\n",
    "    idproposicao, tipoproposicao, tema,\n",
    "    nomeproposicao, ementa, explicacaoementa,\n",
    "    autor, idecadastro, ufautor, partidoautor,\n",
    "    dataapresentacao, regimetramitacao, \n",
    "    ultimodespacho, apreciacao, indexacao,\n",
    "    situacao, linkinteiroteor, apensadas\n",
    "FROM c_camdep.camdep_proposicoes_id\n",
    "ORDER BY \n",
    "    idproposicao, id DESC;\n",
    "\"\"\".format(schema)\n",
    "conn.execute(query, autocommit=True)"
   ]
  },
  {
   "cell_type": "code",
   "execution_count": 7,
   "metadata": {},
   "outputs": [
    {
     "data": {
      "text/plain": [
       "<sqlalchemy.engine.result.ResultProxy at 0x7fd4966cd978>"
      ]
     },
     "execution_count": 7,
     "metadata": {},
     "output_type": "execute_result"
    }
   ],
   "source": [
    "query = \"\"\"\n",
    "ALTER TABLE {0}proposicoes\n",
    "  ADD COLUMN ultimoorgao character varying(255);\n",
    "\"\"\".format(schema)\n",
    "conn.execute(query, autocommit=True)"
   ]
  },
  {
   "cell_type": "code",
   "execution_count": 8,
   "metadata": {},
   "outputs": [
    {
     "data": {
      "text/plain": [
       "<sqlalchemy.engine.result.ResultProxy at 0x7fd4939566a0>"
      ]
     },
     "execution_count": 8,
     "metadata": {},
     "output_type": "execute_result"
    }
   ],
   "source": [
    "query = \"\"\"\n",
    "ALTER TABLE {0}proposicoes\n",
    "  ADD COLUMN status character varying(255);\n",
    "\"\"\".format(schema)\n",
    "conn.execute(query, autocommit=True)"
   ]
  },
  {
   "cell_type": "code",
   "execution_count": 17,
   "metadata": {},
   "outputs": [
    {
     "data": {
      "text/plain": [
       "<sqlalchemy.engine.result.ResultProxy at 0x7fd493088cf8>"
      ]
     },
     "execution_count": 17,
     "metadata": {},
     "output_type": "execute_result"
    }
   ],
   "source": [
    "query = \"\"\"\n",
    "ALTER TABLE {0}proposicoes\n",
    "  ADD COLUMN resultado character varying(255);\n",
    "\"\"\".format(schema)\n",
    "conn.execute(query, autocommit=True)"
   ]
  },
  {
   "cell_type": "code",
   "execution_count": 14,
   "metadata": {},
   "outputs": [
    {
     "name": "stdout",
     "output_type": "stream",
     "text": [
      "\n",
      "UPDATE desenv.cam_proposicoes\n",
      "SET\n",
      "    ultimoorgao = split_part(situacao,' - ',1), \n",
      "    status = split_part(situacao,' - ',2)\n",
      "WHERE \n",
      "    situacao LIKE '%%MESA -%%'\n",
      "    AND ultimoorgao IS NULL\n",
      "    AND status IS NULL\n",
      "\n"
     ]
    },
    {
     "data": {
      "text/plain": [
       "<sqlalchemy.engine.result.ResultProxy at 0x7fd493081518>"
      ]
     },
     "execution_count": 14,
     "metadata": {},
     "output_type": "execute_result"
    }
   ],
   "source": [
    "query = \"\"\"\n",
    "UPDATE {0}proposicoes\n",
    "SET\n",
    "    ultimoorgao = split_part(situacao,' - ',1), \n",
    "    status = split_part(situacao,' - ',2)\n",
    "WHERE \n",
    "    situacao LIKE '%%MESA - %%'\n",
    "    AND ultimoorgao IS NULL\n",
    "    AND status IS NULL\n",
    "\"\"\".format(schema)\n",
    "conn.execute(query)"
   ]
  },
  {
   "cell_type": "code",
   "execution_count": 15,
   "metadata": {},
   "outputs": [
    {
     "data": {
      "text/plain": [
       "<sqlalchemy.engine.result.ResultProxy at 0x7fd493078d30>"
      ]
     },
     "execution_count": 15,
     "metadata": {},
     "output_type": "execute_result"
    }
   ],
   "source": [
    "query = \"\"\"\n",
    "UPDATE {0}proposicoes\n",
    "SET\n",
    "    ultimoorgao = split_part(situacao,' - ',1), \n",
    "    status = split_part(situacao,' - ',2)\n",
    "WHERE \n",
    "    situacao LIKE '%% - %%'\n",
    "    AND ultimoorgao IS NULL\n",
    "    AND status IS NULL\n",
    "\"\"\".format(schema)\n",
    "conn.execute(query)"
   ]
  },
  {
   "cell_type": "code",
   "execution_count": 16,
   "metadata": {},
   "outputs": [
    {
     "data": {
      "text/plain": [
       "<sqlalchemy.engine.result.ResultProxy at 0x7fd493081780>"
      ]
     },
     "execution_count": 16,
     "metadata": {},
     "output_type": "execute_result"
    }
   ],
   "source": [
    "query = \"\"\"\n",
    "UPDATE {0}proposicoes\n",
    "SET\n",
    "    ultimoorgao = 'Não identificado', \n",
    "    status = 'Não identificado'\n",
    "WHERE \n",
    "    (\n",
    "        situacao = 'Diversas' OR\n",
    "        situacao IS NULL\n",
    "    )\n",
    "    AND ultimoorgao IS NULL\n",
    "    AND status IS NULL\n",
    "\"\"\".format(schema)\n",
    "conn.execute(query)"
   ]
  },
  {
   "cell_type": "code",
   "execution_count": 19,
   "metadata": {},
   "outputs": [
    {
     "data": {
      "text/plain": [
       "<sqlalchemy.engine.result.ResultProxy at 0x7fd493956e48>"
      ]
     },
     "execution_count": 19,
     "metadata": {},
     "output_type": "execute_result"
    }
   ],
   "source": [
    "query = \"\"\"\n",
    "UPDATE {0}proposicoes\n",
    "SET\n",
    "    ultimoorgao = 'Não identificado', \n",
    "    status = 'Aprovado',\n",
    "    resultado = split_part(situacao,' no(a) ',2)\n",
    "WHERE \n",
    "    ultimoorgao IS NULL\n",
    "    AND status IS NULL\n",
    "    AND situacao LIKE 'Tranformada n%%'\n",
    "\"\"\".format(schema)\n",
    "conn.execute(query)"
   ]
  },
  {
   "cell_type": "code",
   "execution_count": null,
   "metadata": {
    "collapsed": true
   },
   "outputs": [],
   "source": [
    ""
   ]
  }
 ],
 "metadata": {
  "kernelspec": {
   "display_name": "Python 3",
   "language": "python",
   "name": "python3"
  },
  "language_info": {
   "codemirror_mode": {
    "name": "ipython",
    "version": 3.0
   },
   "file_extension": ".py",
   "mimetype": "text/x-python",
   "name": "python",
   "nbconvert_exporter": "python",
   "pygments_lexer": "ipython3",
   "version": "3.5.2+"
  }
 },
 "nbformat": 4,
 "nbformat_minor": 0
}
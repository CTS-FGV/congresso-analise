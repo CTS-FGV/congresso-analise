{
 "cells": [
  {
   "cell_type": "code",
   "execution_count": 1,
   "metadata": {
    "collapsed": true
   },
   "outputs": [],
   "source": [
    "import sqlalchemy\n",
    "from sqlalchemy.sql import text\n",
    "import pandas as pd\n",
    "import glob\n",
    "import os\n",
    "import pickle"
   ]
  },
  {
   "cell_type": "code",
   "execution_count": 31,
   "metadata": {
    "collapsed": true
   },
   "outputs": [],
   "source": [
    "\n",
    "url = 'postgresql://{}:{}@{}/{}'\n",
    "url = url.format(user, password, host, database)\n",
    "conn = sqlalchemy.create_engine(url)"
   ]
  },
  {
   "cell_type": "code",
   "execution_count": 32,
   "metadata": {
    "collapsed": true
   },
   "outputs": [],
   "source": [
    "# CONFS\n",
    "schema = 'desenv.cam_' # PRODUÇÃO: 'a_camdep.'"
   ]
  },
  {
   "cell_type": "code",
   "execution_count": 6,
   "metadata": {},
   "outputs": [
    {
     "data": {
      "text/plain": [
       "<sqlalchemy.engine.result.ResultProxy at 0x7fd493956198>"
      ]
     },
     "execution_count": 6,
     "metadata": {},
     "output_type": "execute_result"
    }
   ],
   "source": [
    "query = \"\"\"\n",
    "DROP TABLE IF EXISTS {0}proposicoes;\n",
    "CREATE TABLE {0}proposicoes AS\n",
    "SELECT \n",
    "    DISTINCT ON(idproposicao)\n",
    "    idproposicao, tipoproposicao, tema,\n",
    "    nomeproposicao, ementa, explicacaoementa,\n",
    "    autor, idecadastro, ufautor, partidoautor,\n",
    "    dataapresentacao, regimetramitacao, \n",
    "    ultimodespacho, apreciacao, indexacao,\n",
    "    situacao, linkinteiroteor, apensadas\n",
    "FROM c_camdep.camdep_proposicoes_id\n",
    "ORDER BY \n",
    "    idproposicao, id DESC;\n",
    "\"\"\".format(schema)\n",
    "conn.execute(query, autocommit=True)"
   ]
  },
  {
   "cell_type": "code",
   "execution_count": 7,
   "metadata": {},
   "outputs": [
    {
     "data": {
      "text/plain": [
       "<sqlalchemy.engine.result.ResultProxy at 0x7fd4966cd978>"
      ]
     },
     "execution_count": 7,
     "metadata": {},
     "output_type": "execute_result"
    }
   ],
   "source": [
    "query = \"\"\"\n",
    "ALTER TABLE {0}proposicoes\n",
    "  ADD COLUMN ultimoorgao character varying(255);\n",
    "\"\"\".format(schema)\n",
    "conn.execute(query, autocommit=True)"
   ]
  },
  {
   "cell_type": "code",
   "execution_count": 8,
   "metadata": {},
   "outputs": [
    {
     "data": {
      "text/plain": [
       "<sqlalchemy.engine.result.ResultProxy at 0x7fd4939566a0>"
      ]
     },
     "execution_count": 8,
     "metadata": {},
     "output_type": "execute_result"
    }
   ],
   "source": [
    "query = \"\"\"\n",
    "ALTER TABLE {0}proposicoes\n",
    "  ADD COLUMN status character varying(255);\n",
    "\"\"\".format(schema)\n",
    "conn.execute(query, autocommit=True)"
   ]
  },
  {
   "cell_type": "code",
   "execution_count": 17,
   "metadata": {},
   "outputs": [
    {
     "data": {
      "text/plain": [
       "<sqlalchemy.engine.result.ResultProxy at 0x7fd493088cf8>"
      ]
     },
     "execution_count": 17,
     "metadata": {},
     "output_type": "execute_result"
    }
   ],
   "source": [
    "query = \"\"\"\n",
    "ALTER TABLE {0}proposicoes\n",
    "  ADD COLUMN resultado character varying(255);\n",
    "\"\"\".format(schema)\n",
    "conn.execute(query, autocommit=True)"
   ]
  },
  {
   "cell_type": "code",
   "execution_count": 14,
   "metadata": {},
   "outputs": [
    {
     "name": "stdout",
     "output_type": "stream",
     "text": [
      "\n",
      "UPDATE desenv.cam_proposicoes\n",
      "SET\n",
      "    ultimoorgao = split_part(situacao,' - ',1), \n",
      "    status = split_part(situacao,' - ',2)\n",
      "WHERE \n",
      "    situacao LIKE '%%MESA -%%'\n",
      "    AND ultimoorgao IS NULL\n",
      "    AND status IS NULL\n",
      "\n"
     ]
    },
    {
     "data": {
      "text/plain": [
       "<sqlalchemy.engine.result.ResultProxy at 0x7fd493081518>"
      ]
     },
     "execution_count": 14,
     "metadata": {},
     "output_type": "execute_result"
    }
   ],
   "source": [
    "query = \"\"\"\n",
    "UPDATE {0}proposicoes\n",
    "SET\n",
    "    ultimoorgao = split_part(situacao,' - ',1), \n",
    "    status = split_part(situacao,' - ',2)\n",
    "WHERE \n",
    "    situacao LIKE '%%MESA - %%'\n",
    "    AND ultimoorgao IS NULL\n",
    "    AND status IS NULL\n",
    "\"\"\".format(schema)\n",
    "conn.execute(query)"
   ]
  },
  {
   "cell_type": "code",
   "execution_count": 15,
   "metadata": {},
   "outputs": [
    {
     "data": {
      "text/plain": [
       "<sqlalchemy.engine.result.ResultProxy at 0x7fd493078d30>"
      ]
     },
     "execution_count": 15,
     "metadata": {},
     "output_type": "execute_result"
    }
   ],
   "source": [
    "query = \"\"\"\n",
    "UPDATE {0}proposicoes\n",
    "SET\n",
    "    ultimoorgao = split_part(situacao,' - ',1), \n",
    "    status = split_part(situacao,' - ',2)\n",
    "WHERE \n",
    "    situacao LIKE '%% - %%'\n",
    "    AND ultimoorgao IS NULL\n",
    "    AND status IS NULL\n",
    "\"\"\".format(schema)\n",
    "conn.execute(query)"
   ]
  },
  {
   "cell_type": "code",
   "execution_count": 16,
   "metadata": {},
   "outputs": [
    {
     "data": {
      "text/plain": [
       "<sqlalchemy.engine.result.ResultProxy at 0x7fd493081780>"
      ]
     },
     "execution_count": 16,
     "metadata": {},
     "output_type": "execute_result"
    }
   ],
   "source": [
    "query = \"\"\"\n",
    "UPDATE {0}proposicoes\n",
    "SET\n",
    "    ultimoorgao = 'Não identificado', \n",
    "    status = 'Não identificado'\n",
    "WHERE \n",
    "    (\n",
    "        situacao = 'Diversas' OR\n",
    "        situacao IS NULL\n",
    "    )\n",
    "    AND ultimoorgao IS NULL\n",
    "    AND status IS NULL\n",
    "\"\"\".format(schema)\n",
    "conn.execute(query)"
   ]
  },
  {
   "cell_type": "code",
   "execution_count": 19,
   "metadata": {},
   "outputs": [
    {
     "data": {
      "text/plain": [
       "<sqlalchemy.engine.result.ResultProxy at 0x7fd493956e48>"
      ]
     },
     "execution_count": 19,
     "metadata": {},
     "output_type": "execute_result"
    }
   ],
   "source": [
    "query = \"\"\"\n",
    "UPDATE {0}proposicoes\n",
    "SET\n",
    "    ultimoorgao = 'Não identificado', \n",
    "    status = 'Aprovado',\n",
    "    resultado = split_part(situacao,' no(a) ',2)\n",
    "WHERE \n",
    "    ultimoorgao IS NULL\n",
    "    AND status IS NULL\n",
    "    AND situacao LIKE 'Tranformada n%%'\n",
    "\"\"\".format(schema)\n",
    "conn.execute(query)"
   ]
  },
  {
   "cell_type": "code",
   "execution_count": 20,
   "metadata": {},
   "outputs": [
    {
     "data": {
      "text/plain": [
       "<sqlalchemy.engine.result.ResultProxy at 0x7fd493078668>"
      ]
     },
     "execution_count": 20,
     "metadata": {},
     "output_type": "execute_result"
    }
   ],
   "source": [
    "query = \"\"\"\n",
    "UPDATE {0}proposicoes\n",
    "SET\n",
    "    ultimoorgao = 'Não identificado', \n",
    "    status = 'Originou outro ato',\n",
    "    resultado = split_part(situacao,' o(a) ',2)\n",
    "WHERE \n",
    "    ultimoorgao IS NULL\n",
    "    AND status IS NULL\n",
    "    AND situacao LIKE 'Originou %%'\n",
    "\"\"\".format(schema)\n",
    "conn.execute(query)"
   ]
  },
  {
   "cell_type": "code",
   "execution_count": 21,
   "metadata": {},
   "outputs": [
    {
     "data": {
      "text/plain": [
       "<sqlalchemy.engine.result.ResultProxy at 0x7fd493078780>"
      ]
     },
     "execution_count": 21,
     "metadata": {},
     "output_type": "execute_result"
    }
   ],
   "source": [
    "query = \"\"\"\n",
    "UPDATE {0}proposicoes\n",
    "SET\n",
    "    ultimoorgao = 'Não identificado', \n",
    "    status = 'Arquivada'\n",
    "WHERE \n",
    "    ultimoorgao IS NULL\n",
    "    AND status IS NULL\n",
    "    AND situacao LIKE '%%Arquivada%%'\n",
    "\"\"\".format(schema)\n",
    "conn.execute(query)"
   ]
  },
  {
   "cell_type": "code",
   "execution_count": 34,
   "metadata": {},
   "outputs": [],
   "source": [
    "query = \"\"\"\n",
    "COMMENT ON TABLE {0}proposicoes IS \n",
    "'NOVO COMENTÁRIO';\n",
    "\"\"\".format(schema)\n",
    "tmp = conn.execute(query)"
   ]
  },
  {
   "cell_type": "code",
   "execution_count": 44,
   "metadata": {},
   "outputs": [
    {
     "ename": "AttributeError",
     "evalue": "'NoneType' object has no attribute 'returning'",
     "traceback": [
      "\u001b[0;31m---------------------------------------------------------------------------\u001b[0m",
      "\u001b[0;31mAttributeError\u001b[0m                            Traceback (most recent call last)",
      "\u001b[0;32m<ipython-input-44-fbe48f6295e3>\u001b[0m in \u001b[0;36m<module>\u001b[0;34m()\u001b[0m\n\u001b[0;32m----> 1\u001b[0;31m \u001b[0mtmp\u001b[0m\u001b[0;34m.\u001b[0m\u001b[0mcontext\u001b[0m\u001b[0;34m.\u001b[0m\u001b[0mreturning_cols\u001b[0m\u001b[0;34m\u001b[0m\u001b[0m\n\u001b[0m",
      "\u001b[0;32m/usr/local/lib/python3.5/dist-packages/sqlalchemy/util/langhelpers.py\u001b[0m in \u001b[0;36m__get__\u001b[0;34m(self, obj, cls)\u001b[0m\n\u001b[1;32m    762\u001b[0m         \u001b[0;32mif\u001b[0m \u001b[0mobj\u001b[0m \u001b[0;32mis\u001b[0m \u001b[0;32mNone\u001b[0m\u001b[0;34m:\u001b[0m\u001b[0;34m\u001b[0m\u001b[0m\n\u001b[1;32m    763\u001b[0m             \u001b[0;32mreturn\u001b[0m \u001b[0mself\u001b[0m\u001b[0;34m\u001b[0m\u001b[0m\n\u001b[0;32m--> 764\u001b[0;31m         \u001b[0mobj\u001b[0m\u001b[0;34m.\u001b[0m\u001b[0m__dict__\u001b[0m\u001b[0;34m[\u001b[0m\u001b[0mself\u001b[0m\u001b[0;34m.\u001b[0m\u001b[0m__name__\u001b[0m\u001b[0;34m]\u001b[0m \u001b[0;34m=\u001b[0m \u001b[0mresult\u001b[0m \u001b[0;34m=\u001b[0m \u001b[0mself\u001b[0m\u001b[0;34m.\u001b[0m\u001b[0mfget\u001b[0m\u001b[0;34m(\u001b[0m\u001b[0mobj\u001b[0m\u001b[0;34m)\u001b[0m\u001b[0;34m\u001b[0m\u001b[0m\n\u001b[0m\u001b[1;32m    765\u001b[0m         \u001b[0;32mreturn\u001b[0m \u001b[0mresult\u001b[0m\u001b[0;34m\u001b[0m\u001b[0m\n\u001b[1;32m    766\u001b[0m \u001b[0;34m\u001b[0m\u001b[0m\n",
      "\u001b[0;32m/usr/local/lib/python3.5/dist-packages/sqlalchemy/engine/default.py\u001b[0m in \u001b[0;36mreturning_cols\u001b[0;34m(self)\u001b[0m\n\u001b[1;32m    731\u001b[0m     \u001b[0;34m@\u001b[0m\u001b[0mutil\u001b[0m\u001b[0;34m.\u001b[0m\u001b[0mmemoized_property\u001b[0m\u001b[0;34m\u001b[0m\u001b[0m\n\u001b[1;32m    732\u001b[0m     \u001b[0;32mdef\u001b[0m \u001b[0mreturning_cols\u001b[0m\u001b[0;34m(\u001b[0m\u001b[0mself\u001b[0m\u001b[0;34m)\u001b[0m\u001b[0;34m:\u001b[0m\u001b[0;34m\u001b[0m\u001b[0m\n\u001b[0;32m--> 733\u001b[0;31m         \u001b[0mself\u001b[0m\u001b[0;34m.\u001b[0m\u001b[0mcompiled\u001b[0m\u001b[0;34m.\u001b[0m\u001b[0mreturning\u001b[0m\u001b[0;34m\u001b[0m\u001b[0m\n\u001b[0m\u001b[1;32m    734\u001b[0m \u001b[0;34m\u001b[0m\u001b[0m\n\u001b[1;32m    735\u001b[0m     \u001b[0;34m@\u001b[0m\u001b[0mutil\u001b[0m\u001b[0;34m.\u001b[0m\u001b[0mmemoized_property\u001b[0m\u001b[0;34m\u001b[0m\u001b[0m\n",
      "\u001b[0;31mAttributeError\u001b[0m: 'NoneType' object has no attribute 'returning'"
     ],
     "output_type": "error"
    }
   ],
   "source": [
    ""
   ]
  },
  {
   "cell_type": "code",
   "execution_count": null,
   "metadata": {
    "collapsed": true
   },
   "outputs": [],
   "source": [
    ""
   ]
  }
 ],
 "metadata": {
  "kernelspec": {
   "display_name": "Python 3",
   "language": "python",
   "name": "python3"
  },
  "language_info": {
   "codemirror_mode": {
    "name": "ipython",
    "version": 3.0
   },
   "file_extension": ".py",
   "mimetype": "text/x-python",
   "name": "python",
   "nbconvert_exporter": "python",
   "pygments_lexer": "ipython3",
   "version": "3.5.2+"
  }
 },
 "nbformat": 4,
 "nbformat_minor": 0
}
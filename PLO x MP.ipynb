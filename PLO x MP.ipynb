{
 "cells": [
  {
   "cell_type": "code",
   "execution_count": 1,
   "metadata": {},
   "outputs": [
    {
     "name": "stdout",
     "output_type": "stream",
     "text": [
      "Populating the interactive namespace from numpy and matplotlib\n"
     ]
    },
    {
     "name": "stderr",
     "output_type": "stream",
     "text": [
      "/usr/local/lib/python3.5/dist-packages/IPython/core/magics/pylab.py:160: UserWarning: pylab import has clobbered these variables: ['copy', 'text']\n",
      "`%matplotlib` prevents importing * from pylab and numpy\n",
      "  \"\\n`%matplotlib` prevents importing * from pylab and numpy\"\n"
     ]
    }
   ],
   "source": [
    "import sqlalchemy\n",
    "from sqlalchemy.sql import text\n",
    "import pandas as pd\n",
    "import datetime\n",
    "import json\n",
    "import yaml\n",
    "import requests\n",
    "import bs4\n",
    "import copy\n",
    "from copy import deepcopy\n",
    "\n",
    "\n",
    "%matplotlib inline  \n",
    "%pylab inline\n",
    "pylab.rcParams['figure.figsize'] = (20,12)"
   ]
  },
  {
   "cell_type": "markdown",
   "metadata": {},
   "source": [
    "### Conecta ao banco"
   ]
  },
  {
   "cell_type": "code",
   "execution_count": 2,
   "metadata": {
    "collapsed": true
   },
   "outputs": [],
   "source": [
    "with open('server_config.yaml', 'r') as f:\n",
    "        server = yaml.load(f)\n",
    "\n",
    "host = server['host']\n",
    "database = server['database']\n",
    "user = server['user']\n",
    "password = server['password']\n",
    "\n",
    "\n",
    "url = 'postgresql://{}:{}@{}/{}'\n",
    "url = url.format(user, password, host, database)\n",
    "engine = sqlalchemy.create_engine(url)"
   ]
  },
  {
   "cell_type": "markdown",
   "metadata": {},
   "source": [
    "#### Query Medidas provisorias"
   ]
  },
  {
   "cell_type": "code",
   "execution_count": 5,
   "metadata": {},
   "outputs": [],
   "source": [
    "tipo_proposicao = 'MPV'\n",
    "mpv = pd.read_sql_query(\"SELECT * FROM c_camdep.proposicoes_id WHERE nomeproposicao LIKE '{} %%';\".format(tipo_proposicao), engine)"
   ]
  },
  {
   "cell_type": "markdown",
   "metadata": {},
   "source": [
    "\n",
    "#### Query Projetos de Leis Ordinarias"
   ]
  },
  {
   "cell_type": "code",
   "execution_count": 18,
   "metadata": {
    "collapsed": true
   },
   "outputs": [],
   "source": [
    "tipo_proposicao = 'PL'\n",
    "regime_tramitacao = 'Ordinária'\n",
    "plo = pd.read_sql_query(\"SELECT * from c_camdep.camdep_proposicoes_id WHERE nomeproposicao LIKE '{} %%' AND regimetramitacao = '{}';\".format(tipo_proposicao,regime_tramitacao), engine)"
   ]
  },
  {
   "cell_type": "markdown",
   "metadata": {},
   "source": [
    "#### Query Legislaturas"
   ]
  },
  {
   "cell_type": "code",
   "execution_count": 17,
   "metadata": {
    "collapsed": true
   },
   "outputs": [],
   "source": [
    "casa = 'CD'\n",
    "legs = pd.read_sql_query(\"SELECT * from c_congresso.legislaturas WHERE sigla_casa = '{}';\".format(casa,regime_tramitacao), engine)"
   ]
  },
  {
   "cell_type": "code",
   "execution_count": 19,
   "metadata": {
    "scrolled": true
   },
   "outputs": [
    {
     "data": {
      "text/html": [
       "<div>\n",
       "<table border=\"1\" class=\"dataframe\">\n",
       "  <thead>\n",
       "    <tr style=\"text-align: right;\">\n",
       "      <th></th>\n",
       "      <th>id</th>\n",
       "      <th>capnum</th>\n",
       "      <th>datacaptura</th>\n",
       "      <th>nomeproposicao</th>\n",
       "      <th>idproposicao</th>\n",
       "      <th>idproposicaoprincipal</th>\n",
       "      <th>nomeproposicaoorigem</th>\n",
       "      <th>tipoproposicao</th>\n",
       "      <th>tema</th>\n",
       "      <th>ementa</th>\n",
       "      <th>...</th>\n",
       "      <th>ufautor</th>\n",
       "      <th>partidoautor</th>\n",
       "      <th>dataapresentacao</th>\n",
       "      <th>regimetramitacao</th>\n",
       "      <th>ultimodespacho</th>\n",
       "      <th>apreciacao</th>\n",
       "      <th>indexacao</th>\n",
       "      <th>situacao</th>\n",
       "      <th>linkinteiroteor</th>\n",
       "      <th>apensadas</th>\n",
       "    </tr>\n",
       "  </thead>\n",
       "  <tbody>\n",
       "    <tr>\n",
       "      <th>0</th>\n",
       "      <td>20970</td>\n",
       "      <td>25</td>\n",
       "      <td>2015-11-06 09:19:26</td>\n",
       "      <td>MPV 1/2001</td>\n",
       "      <td>36450</td>\n",
       "      <td>None</td>\n",
       "      <td>None</td>\n",
       "      <td>Medida Provisória</td>\n",
       "      <td>Economia, Administração Financeira e Orçamentá...</td>\n",
       "      <td>Abre crédito extraórdinario, em favor do Minis...</td>\n",
       "      <td>...</td>\n",
       "      <td>None</td>\n",
       "      <td>None</td>\n",
       "      <td>2001-09-20</td>\n",
       "      <td>Urgência</td>\n",
       "      <td>None</td>\n",
       "      <td>Proposição Sujeita à Apreciação do Plenário</td>\n",
       "      <td>Abertura de crédito, crédito extraordinário, M...</td>\n",
       "      <td>Tranformada no(a) Lei Ordinária 10296/2001</td>\n",
       "      <td>http://www.camara.gov.br/proposicoesWeb/prop_m...</td>\n",
       "      <td>None</td>\n",
       "    </tr>\n",
       "    <tr>\n",
       "      <th>1</th>\n",
       "      <td>21142</td>\n",
       "      <td>25</td>\n",
       "      <td>2015-11-06 09:19:26</td>\n",
       "      <td>MPV 3/2001</td>\n",
       "      <td>36706</td>\n",
       "      <td>None</td>\n",
       "      <td>None</td>\n",
       "      <td>Medida Provisória</td>\n",
       "      <td>Tributação</td>\n",
       "      <td>Estabelece normas para registro do resultado l...</td>\n",
       "      <td>...</td>\n",
       "      <td>None</td>\n",
       "      <td>None</td>\n",
       "      <td>2001-09-27</td>\n",
       "      <td>Urgência</td>\n",
       "      <td>None</td>\n",
       "      <td>Proposição Sujeita à Apreciação do Plenário</td>\n",
       "      <td>Autorização, pessoa jurídica, registro, result...</td>\n",
       "      <td>Tranformada no(a) Lei Ordinária 10305/2001</td>\n",
       "      <td>http://www.camara.gov.br/proposicoesWeb/prop_m...</td>\n",
       "      <td>None</td>\n",
       "    </tr>\n",
       "  </tbody>\n",
       "</table>\n",
       "<p>2 rows × 23 columns</p>\n",
       "</div>"
      ],
      "text/plain": [
       "      id  capnum         datacaptura nomeproposicao  idproposicao  \\\n",
       "0  20970      25 2015-11-06 09:19:26     MPV 1/2001         36450   \n",
       "1  21142      25 2015-11-06 09:19:26     MPV 3/2001         36706   \n",
       "\n",
       "  idproposicaoprincipal nomeproposicaoorigem     tipoproposicao  \\\n",
       "0                  None                 None  Medida Provisória   \n",
       "1                  None                 None  Medida Provisória   \n",
       "\n",
       "                                                tema  \\\n",
       "0  Economia, Administração Financeira e Orçamentá...   \n",
       "1                                         Tributação   \n",
       "\n",
       "                                              ementa    ...    ufautor  \\\n",
       "0  Abre crédito extraórdinario, em favor do Minis...    ...       None   \n",
       "1  Estabelece normas para registro do resultado l...    ...       None   \n",
       "\n",
       "  partidoautor dataapresentacao regimetramitacao ultimodespacho  \\\n",
       "0         None       2001-09-20         Urgência           None   \n",
       "1         None       2001-09-27         Urgência           None   \n",
       "\n",
       "                                    apreciacao  \\\n",
       "0  Proposição Sujeita à Apreciação do Plenário   \n",
       "1  Proposição Sujeita à Apreciação do Plenário   \n",
       "\n",
       "                                           indexacao  \\\n",
       "0  Abertura de crédito, crédito extraordinário, M...   \n",
       "1  Autorização, pessoa jurídica, registro, result...   \n",
       "\n",
       "                                     situacao  \\\n",
       "0  Tranformada no(a) Lei Ordinária 10296/2001   \n",
       "1  Tranformada no(a) Lei Ordinária 10305/2001   \n",
       "\n",
       "                                     linkinteiroteor apensadas  \n",
       "0  http://www.camara.gov.br/proposicoesWeb/prop_m...      None  \n",
       "1  http://www.camara.gov.br/proposicoesWeb/prop_m...      None  \n",
       "\n",
       "[2 rows x 23 columns]"
      ]
     },
     "execution_count": 19,
     "metadata": {},
     "output_type": "execute_result"
    }
   ],
   "source": [
    "mpv.head(2)"
   ]
  },
  {
   "cell_type": "code",
   "execution_count": 20,
   "metadata": {},
   "outputs": [
    {
     "data": {
      "text/html": [
       "<div>\n",
       "<table border=\"1\" class=\"dataframe\">\n",
       "  <thead>\n",
       "    <tr style=\"text-align: right;\">\n",
       "      <th></th>\n",
       "      <th>id</th>\n",
       "      <th>capnum</th>\n",
       "      <th>datacaptura</th>\n",
       "      <th>nomeproposicao</th>\n",
       "      <th>idproposicao</th>\n",
       "      <th>idproposicaoprincipal</th>\n",
       "      <th>nomeproposicaoorigem</th>\n",
       "      <th>tipoproposicao</th>\n",
       "      <th>tema</th>\n",
       "      <th>ementa</th>\n",
       "      <th>...</th>\n",
       "      <th>ufautor</th>\n",
       "      <th>partidoautor</th>\n",
       "      <th>dataapresentacao</th>\n",
       "      <th>regimetramitacao</th>\n",
       "      <th>ultimodespacho</th>\n",
       "      <th>apreciacao</th>\n",
       "      <th>indexacao</th>\n",
       "      <th>situacao</th>\n",
       "      <th>linkinteiroteor</th>\n",
       "      <th>apensadas</th>\n",
       "    </tr>\n",
       "  </thead>\n",
       "  <tbody>\n",
       "    <tr>\n",
       "      <th>0</th>\n",
       "      <td>2369</td>\n",
       "      <td>20</td>\n",
       "      <td>2015-11-06 01:10:58</td>\n",
       "      <td>PL 115/1999</td>\n",
       "      <td>15064</td>\n",
       "      <td>None</td>\n",
       "      <td>None</td>\n",
       "      <td>Projeto de Lei</td>\n",
       "      <td>Economia, Administração Financeira e Orçamentá...</td>\n",
       "      <td>Isenta a operação de crédito que especifica do...</td>\n",
       "      <td>...</td>\n",
       "      <td>DF</td>\n",
       "      <td>PT</td>\n",
       "      <td>1999-02-25</td>\n",
       "      <td>Ordinária</td>\n",
       "      <td>DESPACHO INICIAL A CEIC CFT (MERITO E ARTIGO 5...</td>\n",
       "      <td>Proposição Sujeita à Apreciação Conclusiva pel...</td>\n",
       "      <td>Concessão, isenção, (IOF), operação financeira...</td>\n",
       "      <td>MESA - Arquivada</td>\n",
       "      <td>http://www.camara.gov.br/proposicoesWeb/prop_m...</td>\n",
       "      <td>None</td>\n",
       "    </tr>\n",
       "    <tr>\n",
       "      <th>1</th>\n",
       "      <td>2370</td>\n",
       "      <td>20</td>\n",
       "      <td>2015-11-06 01:10:58</td>\n",
       "      <td>PL 117/1999</td>\n",
       "      <td>15065</td>\n",
       "      <td>None</td>\n",
       "      <td>None</td>\n",
       "      <td>Projeto de Lei</td>\n",
       "      <td>Viação e Transportes</td>\n",
       "      <td>Acrescenta parágrafo único ao art. 218 da Lei ...</td>\n",
       "      <td>...</td>\n",
       "      <td>RS</td>\n",
       "      <td>PDT</td>\n",
       "      <td>1999-02-25</td>\n",
       "      <td>Ordinária</td>\n",
       "      <td>Tendo em vista a vigência da Lei n.º 11.334 de...</td>\n",
       "      <td>Proposição Sujeita à Apreciação Conclusiva pel...</td>\n",
       "      <td>Alteração, Código de Trânsito Brasileiro, dife...</td>\n",
       "      <td>MESA - Arquivada</td>\n",
       "      <td>http://www.camara.gov.br/proposicoesWeb/prop_m...</td>\n",
       "      <td>None</td>\n",
       "    </tr>\n",
       "  </tbody>\n",
       "</table>\n",
       "<p>2 rows × 23 columns</p>\n",
       "</div>"
      ],
      "text/plain": [
       "     id  capnum         datacaptura nomeproposicao  idproposicao  \\\n",
       "0  2369      20 2015-11-06 01:10:58    PL 115/1999         15064   \n",
       "1  2370      20 2015-11-06 01:10:58    PL 117/1999         15065   \n",
       "\n",
       "  idproposicaoprincipal nomeproposicaoorigem  tipoproposicao  \\\n",
       "0                  None                 None  Projeto de Lei   \n",
       "1                  None                 None  Projeto de Lei   \n",
       "\n",
       "                                                tema  \\\n",
       "0  Economia, Administração Financeira e Orçamentá...   \n",
       "1                               Viação e Transportes   \n",
       "\n",
       "                                              ementa    ...    ufautor  \\\n",
       "0  Isenta a operação de crédito que especifica do...    ...         DF   \n",
       "1  Acrescenta parágrafo único ao art. 218 da Lei ...    ...         RS   \n",
       "\n",
       "  partidoautor  dataapresentacao regimetramitacao  \\\n",
       "0           PT        1999-02-25        Ordinária   \n",
       "1          PDT        1999-02-25        Ordinária   \n",
       "\n",
       "                                      ultimodespacho  \\\n",
       "0  DESPACHO INICIAL A CEIC CFT (MERITO E ARTIGO 5...   \n",
       "1  Tendo em vista a vigência da Lei n.º 11.334 de...   \n",
       "\n",
       "                                          apreciacao  \\\n",
       "0  Proposição Sujeita à Apreciação Conclusiva pel...   \n",
       "1  Proposição Sujeita à Apreciação Conclusiva pel...   \n",
       "\n",
       "                                           indexacao          situacao  \\\n",
       "0  Concessão, isenção, (IOF), operação financeira...  MESA - Arquivada   \n",
       "1  Alteração, Código de Trânsito Brasileiro, dife...  MESA - Arquivada   \n",
       "\n",
       "                                     linkinteiroteor apensadas  \n",
       "0  http://www.camara.gov.br/proposicoesWeb/prop_m...      None  \n",
       "1  http://www.camara.gov.br/proposicoesWeb/prop_m...      None  \n",
       "\n",
       "[2 rows x 23 columns]"
      ]
     },
     "execution_count": 20,
     "metadata": {},
     "output_type": "execute_result"
    }
   ],
   "source": [
    "plo.head(2)"
   ]
  },
  {
   "cell_type": "code",
   "execution_count": 21,
   "metadata": {},
   "outputs": [
    {
     "data": {
      "text/html": [
       "<div>\n",
       "<table border=\"1\" class=\"dataframe\">\n",
       "  <thead>\n",
       "    <tr style=\"text-align: right;\">\n",
       "      <th></th>\n",
       "      <th>id_legislatura</th>\n",
       "      <th>id_api</th>\n",
       "      <th>sigla_casa</th>\n",
       "      <th>numero_legislatura</th>\n",
       "      <th>data_inicio</th>\n",
       "      <th>data_fim</th>\n",
       "      <th>data_eleicao</th>\n",
       "      <th>data_captura</th>\n",
       "      <th>url_captura</th>\n",
       "      <th>api_captura</th>\n",
       "    </tr>\n",
       "  </thead>\n",
       "  <tbody>\n",
       "    <tr>\n",
       "      <th>0</th>\n",
       "      <td>06cb580dda1d34aa3c31cc88edebd3fc</td>\n",
       "      <td>-1823</td>\n",
       "      <td>CD</td>\n",
       "      <td>-1823</td>\n",
       "      <td>1823-04-17</td>\n",
       "      <td>1823-11-12</td>\n",
       "      <td>None</td>\n",
       "      <td>2017-08-03 18:16:41.613460</td>\n",
       "      <td>https://dadosabertos.camara.leg.br/api/v2/legi...</td>\n",
       "      <td>CD</td>\n",
       "    </tr>\n",
       "    <tr>\n",
       "      <th>1</th>\n",
       "      <td>0470713a1fd3af57c5f63bdf3d6a9e5e</td>\n",
       "      <td>-1821</td>\n",
       "      <td>CD</td>\n",
       "      <td>-1821</td>\n",
       "      <td>1821-12-01</td>\n",
       "      <td>1822-12-31</td>\n",
       "      <td>None</td>\n",
       "      <td>2017-08-03 18:16:41.613587</td>\n",
       "      <td>https://dadosabertos.camara.leg.br/api/v2/legi...</td>\n",
       "      <td>CD</td>\n",
       "    </tr>\n",
       "  </tbody>\n",
       "</table>\n",
       "</div>"
      ],
      "text/plain": [
       "                     id_legislatura  id_api sigla_casa  numero_legislatura  \\\n",
       "0  06cb580dda1d34aa3c31cc88edebd3fc   -1823         CD               -1823   \n",
       "1  0470713a1fd3af57c5f63bdf3d6a9e5e   -1821         CD               -1821   \n",
       "\n",
       "  data_inicio    data_fim data_eleicao               data_captura  \\\n",
       "0  1823-04-17  1823-11-12         None 2017-08-03 18:16:41.613460   \n",
       "1  1821-12-01  1822-12-31         None 2017-08-03 18:16:41.613587   \n",
       "\n",
       "                                         url_captura api_captura  \n",
       "0  https://dadosabertos.camara.leg.br/api/v2/legi...          CD  \n",
       "1  https://dadosabertos.camara.leg.br/api/v2/legi...          CD  "
      ]
     },
     "execution_count": 21,
     "metadata": {},
     "output_type": "execute_result"
    }
   ],
   "source": [
    "legs.head(2)"
   ]
  },
  {
   "cell_type": "code",
   "execution_count": 22,
   "metadata": {},
   "outputs": [
    {
     "name": "stdout",
     "output_type": "stream",
     "text": [
      "<class 'pandas.core.frame.DataFrame'>\n",
      "RangeIndex: 1670 entries, 0 to 1669\n",
      "Data columns (total 23 columns):\n",
      "id                       1670 non-null int64\n",
      "capnum                   1670 non-null int64\n",
      "datacaptura              1670 non-null datetime64[ns]\n",
      "nomeproposicao           1670 non-null object\n",
      "idproposicao             1670 non-null int64\n",
      "idproposicaoprincipal    0 non-null object\n",
      "nomeproposicaoorigem     0 non-null object\n",
      "tipoproposicao           1670 non-null object\n",
      "tema                     1635 non-null object\n",
      "ementa                   1670 non-null object\n",
      "explicacaoementa         572 non-null object\n",
      "autor                    1670 non-null object\n",
      "idecadastro              0 non-null object\n",
      "ufautor                  0 non-null object\n",
      "partidoautor             0 non-null object\n",
      "dataapresentacao         1670 non-null datetime64[ns]\n",
      "regimetramitacao         1670 non-null object\n",
      "ultimodespacho           1165 non-null object\n",
      "apreciacao               1670 non-null object\n",
      "indexacao                1637 non-null object\n",
      "situacao                 1378 non-null object\n",
      "linkinteiroteor          1670 non-null object\n",
      "apensadas                0 non-null object\n",
      "dtypes: datetime64[ns](2), int64(3), object(18)\n",
      "memory usage: 300.2+ KB\n"
     ]
    }
   ],
   "source": [
    "mpv.info()"
   ]
  },
  {
   "cell_type": "code",
   "execution_count": 23,
   "metadata": {},
   "outputs": [
    {
     "name": "stdout",
     "output_type": "stream",
     "text": [
      "<class 'pandas.core.frame.DataFrame'>\n",
      "RangeIndex: 107458 entries, 0 to 107457\n",
      "Data columns (total 23 columns):\n",
      "id                       107458 non-null int64\n",
      "capnum                   107458 non-null int64\n",
      "datacaptura              107458 non-null datetime64[ns]\n",
      "nomeproposicao           107458 non-null object\n",
      "idproposicao             107458 non-null int64\n",
      "idproposicaoprincipal    2 non-null object\n",
      "nomeproposicaoorigem     1492 non-null object\n",
      "tipoproposicao           107458 non-null object\n",
      "tema                     45983 non-null object\n",
      "ementa                   107458 non-null object\n",
      "explicacaoementa         31189 non-null object\n",
      "autor                    107458 non-null object\n",
      "idecadastro              50066 non-null float64\n",
      "ufautor                  98779 non-null object\n",
      "partidoautor             98539 non-null object\n",
      "dataapresentacao         107458 non-null datetime64[ns]\n",
      "regimetramitacao         107458 non-null object\n",
      "ultimodespacho           47006 non-null object\n",
      "apreciacao               107456 non-null object\n",
      "indexacao                107430 non-null object\n",
      "situacao                 107458 non-null object\n",
      "linkinteiroteor          45095 non-null object\n",
      "apensadas                0 non-null object\n",
      "dtypes: datetime64[ns](2), float64(1), int64(3), object(17)\n",
      "memory usage: 18.9+ MB\n"
     ]
    }
   ],
   "source": [
    "plo.info()"
   ]
  },
  {
   "cell_type": "code",
   "execution_count": 24,
   "metadata": {},
   "outputs": [
    {
     "name": "stdout",
     "output_type": "stream",
     "text": [
      "<class 'pandas.core.frame.DataFrame'>\n",
      "RangeIndex: 57 entries, 0 to 56\n",
      "Data columns (total 10 columns):\n",
      "id_legislatura        57 non-null object\n",
      "id_api                57 non-null int64\n",
      "sigla_casa            57 non-null object\n",
      "numero_legislatura    57 non-null int64\n",
      "data_inicio           57 non-null object\n",
      "data_fim              57 non-null object\n",
      "data_eleicao          0 non-null object\n",
      "data_captura          57 non-null datetime64[ns]\n",
      "url_captura           57 non-null object\n",
      "api_captura           57 non-null object\n",
      "dtypes: datetime64[ns](1), int64(2), object(7)\n",
      "memory usage: 4.5+ KB\n"
     ]
    }
   ],
   "source": [
    "legs.info()"
   ]
  },
  {
   "cell_type": "code",
   "execution_count": 37,
   "metadata": {},
   "outputs": [
    {
     "name": "stderr",
     "output_type": "stream",
     "text": [
      "/usr/local/lib/python3.5/dist-packages/ipykernel_launcher.py:1: UserWarning: Boolean Series key will be reindexed to match DataFrame index.\n",
      "  \"\"\"Entry point for launching an IPython kernel.\n"
     ]
    },
    {
     "data": {
      "text/html": [
       "<div>\n",
       "<table border=\"1\" class=\"dataframe\">\n",
       "  <thead>\n",
       "    <tr style=\"text-align: right;\">\n",
       "      <th></th>\n",
       "      <th>id_legislatura</th>\n",
       "      <th>id_api</th>\n",
       "      <th>sigla_casa</th>\n",
       "      <th>numero_legislatura</th>\n",
       "      <th>data_inicio</th>\n",
       "      <th>data_fim</th>\n",
       "      <th>data_eleicao</th>\n",
       "      <th>data_captura</th>\n",
       "      <th>url_captura</th>\n",
       "      <th>api_captura</th>\n",
       "    </tr>\n",
       "  </thead>\n",
       "  <tbody>\n",
       "  </tbody>\n",
       "</table>\n",
       "</div>"
      ],
      "text/plain": [
       "Empty DataFrame\n",
       "Columns: [id_legislatura, id_api, sigla_casa, numero_legislatura, data_inicio, data_fim, data_eleicao, data_captura, url_captura, api_captura]\n",
       "Index: []"
      ]
     },
     "execution_count": 37,
     "metadata": {},
     "output_type": "execute_result"
    }
   ],
   "source": [
    "legs[(plo['dataapresentacao'] > legs['data_inicio'][55]) & (plo['dataapresentacao'] < legs['data_fim'][55])]"
   ]
  },
  {
   "cell_type": "code",
   "execution_count": 38,
   "metadata": {},
   "outputs": [
    {
     "data": {
      "text/plain": [
       "datetime.date(2011, 2, 1)"
      ]
     },
     "execution_count": 38,
     "metadata": {},
     "output_type": "execute_result"
    }
   ],
   "source": [
    "legs['data_inicio'][55]"
   ]
  },
  {
   "cell_type": "code",
   "execution_count": null,
   "metadata": {
    "collapsed": true
   },
   "outputs": [],
   "source": []
  }
 ],
 "metadata": {
  "kernelspec": {
   "display_name": "Python 3",
   "language": "python",
   "name": "python3"
  },
  "language_info": {
   "codemirror_mode": {
    "name": "ipython",
    "version": 3
   },
   "file_extension": ".py",
   "mimetype": "text/x-python",
   "name": "python",
   "nbconvert_exporter": "python",
   "pygments_lexer": "ipython3",
   "version": "3.5.2+"
  }
 },
 "nbformat": 4,
 "nbformat_minor": 2
}

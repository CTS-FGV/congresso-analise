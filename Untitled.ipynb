{
 "cells": [
  {
   "cell_type": "code",
   "execution_count": 1,
   "metadata": {
    "collapsed": true
   },
   "outputs": [],
   "source": [
    "class Funcionario:\n",
    "    \n",
    "    def __init__(self, nome, idade, salario):\n",
    "        \n",
    "        self.nome = nome\n",
    "        self.idade = idade\n",
    "        self.salario = salario"
   ]
  },
  {
   "cell_type": "code",
   "execution_count": 13,
   "metadata": {
    "collapsed": true
   },
   "outputs": [],
   "source": [
    "def elevar_ao_2(x):\n",
    "    \n",
    "    return 'Olá como vai, esse é um numero: ',x"
   ]
  },
  {
   "cell_type": "code",
   "execution_count": 14,
   "metadata": {},
   "outputs": [
    {
     "name": "stdout",
     "output_type": "stream",
     "text": [
      "('Olá como vai, esse é um numero: ', 0)\n",
      "('Olá como vai, esse é um numero: ', 1)\n",
      "('Olá como vai, esse é um numero: ', 2)\n",
      "('Olá como vai, esse é um numero: ', 3)\n",
      "('Olá como vai, esse é um numero: ', 4)\n",
      "('Olá como vai, esse é um numero: ', 5)\n",
      "('Olá como vai, esse é um numero: ', 6)\n",
      "('Olá como vai, esse é um numero: ', 7)\n",
      "('Olá como vai, esse é um numero: ', 8)\n",
      "('Olá como vai, esse é um numero: ', 9)\n",
      "('Olá como vai, esse é um numero: ', 10)\n",
      "('Olá como vai, esse é um numero: ', 11)\n",
      "('Olá como vai, esse é um numero: ', 12)\n",
      "('Olá como vai, esse é um numero: ', 13)\n",
      "('Olá como vai, esse é um numero: ', 14)\n",
      "('Olá como vai, esse é um numero: ', 15)\n",
      "('Olá como vai, esse é um numero: ', 16)\n",
      "('Olá como vai, esse é um numero: ', 17)\n",
      "('Olá como vai, esse é um numero: ', 18)\n",
      "('Olá como vai, esse é um numero: ', 19)\n"
     ]
    }
   ],
   "source": []
  },
  {
   "cell_type": "code",
   "execution_count": null,
   "metadata": {
    "collapsed": true
   },
   "outputs": [],
   "source": []
  }
 ],
 "metadata": {
  "kernelspec": {
   "display_name": "Python 3",
   "language": "python",
   "name": "python3"
  },
  "language_info": {
   "codemirror_mode": {
    "name": "ipython",
    "version": 3
   },
   "file_extension": ".py",
   "mimetype": "text/x-python",
   "name": "python",
   "nbconvert_exporter": "python",
   "pygments_lexer": "ipython3",
   "version": "3.5.2+"
  }
 },
 "nbformat": 4,
 "nbformat_minor": 2
}
